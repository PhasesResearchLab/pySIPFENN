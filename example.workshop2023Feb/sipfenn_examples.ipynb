{
 "cells": [
  {
   "cell_type": "markdown",
   "source": [
    "### pySIPFENN MGF-PSU Workshop (Feb 2023)\n",
    "\n",
    "This Jupyter notebook is a brief walkthrough covering core functionalities of the **pySIPFENN** or **py**(**S**tructure-**I**nformed **P**rediction of **F**ormation **E**nergy using **N**eural **N**etworks) package; available through the PyPI repository. A fuller description of capabilities is given at PSU Phases Research Lab webpage under _phaseslab.com/sipfenn_."
   ],
   "metadata": {
    "collapsed": false
   }
  },
  {
   "cell_type": "markdown",
   "source": [
    "<p align=\"center\">\n",
    "  <img src=\"assets/neuralnetcolorized.png\" width=\"1000\"/>\n",
    "</p>"
   ],
   "metadata": {
    "collapsed": false
   }
  },
  {
   "cell_type": "markdown",
   "source": [
    "### Install pySIPFENN\n",
    "\n",
    "Installing pySIPFENN is simple and easy utilizing either **PyPI** package repository or cloning from **GitHub**. While not required, it is recommended to first set up a virtual environement using venv or Conda. This ensures that one of the required versions of Python (3.9+) is used and there are no dependency conflicts. To create one\n",
    "\n",
    "    conda create -n pysipfenn-workshop python=3.9 jupyter\n",
    "    conda activate pysipfenn-workshop\n",
    "\n",
    "And then install pySIPFENN from PyPI with\n",
    "\n",
    "    pip install pysipfenn\n",
    "\n",
    "Alternatively, you can also install pySIPFENN in editable mode if you cloned it from GitHub like\n",
    "\n",
    "    git clone https://github.com/PhasesResearchLab/pySIPFENN.git\n",
    "\n",
    "Or by downloading a ZIP file. Then, move to the pySIPFENN folder and install in editable (-e) mode\n",
    "\n",
    "    cd pySIPFENN\n",
    "    pip install -e .\n"
   ],
   "metadata": {
    "collapsed": false
   }
  },
  {
   "cell_type": "markdown",
   "source": [
    "### Starting pySIPFENN\n",
    "\n",
    "To utilize pySIPFENN for straightforward calculations, only the Calculator class is needed. It allows for both fetching and identification of NN models and later running of them."
   ],
   "metadata": {
    "collapsed": false
   }
  },
  {
   "cell_type": "code",
   "execution_count": null,
   "metadata": {
    "collapsed": true
   },
   "outputs": [],
   "source": [
    "from pysipfenn import Calculator"
   ]
  },
  {
   "cell_type": "markdown",
   "source": [
    "Now initialize the Calculator. When run, this should display all models detected\n",
    "(e.g. ✔ SIPFENN_Krajewski2020 Standard Materials Model)\n",
    "and those not detected, but declared in the _modelsSIPFENN/models.json_ file."
   ],
   "metadata": {
    "collapsed": false
   }
  },
  {
   "cell_type": "code",
   "execution_count": null,
   "outputs": [],
   "source": [
    "c = Calculator()"
   ],
   "metadata": {
    "collapsed": false
   }
  },
  {
   "cell_type": "markdown",
   "source": [
    "If this is the first run of pySIPFENN and no models are available, one can fetch four default (as of Feb 2023) models from Zenodo with a simple:"
   ],
   "metadata": {
    "collapsed": false
   }
  },
  {
   "cell_type": "code",
   "execution_count": null,
   "outputs": [],
   "source": [
    "c.downloadModels()\n",
    "#c.loadModels()"
   ],
   "metadata": {
    "collapsed": false
   }
  },
  {
   "cell_type": "markdown",
   "source": [
    "For the purpose of testing, a single model is sufficient and will be fetched faster. E.g. the light weight model ('SIPFENN_Krajewski2020_NN24') can be acquired in about 1/30 of the time required to download all four."
   ],
   "metadata": {
    "collapsed": false
   }
  },
  {
   "cell_type": "code",
   "execution_count": null,
   "outputs": [],
   "source": [
    "#c.downloadModels(network='SIPFENN_Krajewski2020_NN24')\n",
    "#c.loadModels()"
   ],
   "metadata": {
    "collapsed": false
   }
  },
  {
   "cell_type": "markdown",
   "source": [
    "### Simple run from directory"
   ],
   "metadata": {
    "collapsed": false
   }
  },
  {
   "cell_type": "markdown",
   "source": [
    "The simplest and most common usage of pySIPFENN is to deploy it on a directory/folder containing atomic structure files such as POSCAR or CIF. To of so, one simply specifies its location and which descriptor / feature vector should be used. The latter determines which ML models will be run, as they require a list of specific and ordered features as input. Furthermore, while the exact model can be specified by the user, by default all applicable models are run, as the run itself is 1-3 orders of magnitude faster than descriptor calculation.\n",
    "\n",
    "    c.runFromDirectory(directory='myInputFiles', descriptor='KS2022')"
   ],
   "metadata": {
    "collapsed": false
   }
  },
  {
   "cell_type": "markdown",
   "source": [
    "In this demonstration, a set of test files shipped with pySIPFENN under **directory**\n",
    "\n",
    "    pysipfenn/tests/testCaseFiles/exampleInputFiles/\n",
    "\n",
    "is used. However, feel free to change the directory to something with your structure files. Please note that the file extension (e.g. _.POSCAR_) is required for correct input."
   ],
   "metadata": {
    "collapsed": false
   }
  },
  {
   "cell_type": "markdown",
   "source": [
    "Furthermore, you can specify whether pySIPFENN should run in series or parallel **calculation mode**. The parallel mode is generally faster, but uses more system resources and may be slower on low-power machines with not enough CPU cores. Serial mode is also preferred if there are less than 5 calculations/worker due to multiprocessing overheads."
   ],
   "metadata": {
    "collapsed": false
   }
  },
  {
   "cell_type": "code",
   "execution_count": null,
   "outputs": [],
   "source": [
    "c.runFromDirectory(directory='../pysipfenn/tests/testCaseFiles/exampleInputFiles/',\n",
    "                   descriptor='Ward2017',\n",
    "                   mode='parallel', max_workers=4)"
   ],
   "metadata": {
    "collapsed": false
   }
  },
  {
   "cell_type": "markdown",
   "source": [
    "Now, all results are obtained and stored within the **c** Calculator object inside a few exposed conveniently named variables\n",
    "_predictions_ and _inputFiles_. Also, the descriptor data is retained in _descriptorData_ if needed. Let's look up the first 3 entries."
   ],
   "metadata": {
    "collapsed": false
   }
  },
  {
   "cell_type": "code",
   "execution_count": null,
   "outputs": [],
   "source": [
    "print(c.inputFiles[:3])\n",
    "print(c.predictions[:3])"
   ],
   "metadata": {
    "collapsed": false
   }
  },
  {
   "cell_type": "markdown",
   "source": [
    "For user convenience, a few methods are provided for extracting the results. E.g., if pySIFPENN has been run from structure files, the _get_resultDictsWithNames()_ method is available to conveniently pass results forward in the code."
   ],
   "metadata": {
    "collapsed": false
   }
  },
  {
   "cell_type": "code",
   "execution_count": null,
   "outputs": [],
   "source": [
    "c.get_resultDictsWithNames()"
   ],
   "metadata": {
    "collapsed": false
   }
  },
  {
   "cell_type": "markdown",
   "source": [
    "Alternatively, if results are to be preserved in a spreadsheet, they can be exported into a CSV."
   ],
   "metadata": {
    "collapsed": false
   }
  },
  {
   "cell_type": "code",
   "execution_count": null,
   "outputs": [],
   "source": [
    "c.writeResultsToCSV('myFirstResults_pySIPFENN.csv')"
   ],
   "metadata": {
    "collapsed": false
   }
  },
  {
   "cell_type": "markdown",
   "source": [
    "### Sigma-Phase 5-sublattice model"
   ],
   "metadata": {
    "collapsed": false
   }
  },
  {
   "cell_type": "markdown",
   "source": [
    "(description)"
   ],
   "metadata": {
    "collapsed": false
   }
  },
  {
   "cell_type": "markdown",
   "source": [
    "<p align=\"center\">\n",
    "  <img src=\"assets/112-Cr12Fe10Ni8.png\" width=\"1000\"/>\n",
    "</p>"
   ],
   "metadata": {
    "collapsed": false
   }
  },
  {
   "cell_type": "code",
   "execution_count": null,
   "outputs": [],
   "source": [
    "from pymatgen.core import Structure\n",
    "from pymatgen.analysis.structure_analyzer import SpacegroupAnalyzer"
   ],
   "metadata": {
    "collapsed": false
   }
  },
  {
   "cell_type": "code",
   "execution_count": null,
   "outputs": [],
   "source": [
    "baseStructure = Structure.from_file('../pysipfenn/tests/testCaseFiles/exampleInputFiles/0-Cr8Fe18Ni4.POSCAR')\n",
    "baseStructure.replace_species({'Cr': 'A', 'Fe': 'A', 'Ni':'A'})"
   ],
   "metadata": {
    "collapsed": false
   }
  },
  {
   "cell_type": "code",
   "execution_count": null,
   "outputs": [],
   "source": [
    "spgA = SpacegroupAnalyzer(baseStructure)"
   ],
   "metadata": {
    "collapsed": false
   }
  },
  {
   "cell_type": "code",
   "execution_count": null,
   "outputs": [],
   "source": [
    "eqAtoms = spgA.get_symmetry_dataset()['equivalent_atoms']\n",
    "uniqueDict = {}\n",
    "for site, unique in enumerate(eqAtoms):\n",
    "    if unique not in uniqueDict:\n",
    "        uniqueDict.update({unique: []})\n",
    "    uniqueDict[unique] += [site]\n",
    "print(uniqueDict)"
   ],
   "metadata": {
    "collapsed": false
   }
  },
  {
   "cell_type": "code",
   "execution_count": null,
   "outputs": [],
   "source": [
    "from itertools import product\n",
    "allPermutations = list(product(['Fe', 'Cr', 'Ni'], repeat=5))\n",
    "print(f'Obtained {len(allPermutations)} permutations of the sublattice occupancy')"
   ],
   "metadata": {
    "collapsed": false
   }
  },
  {
   "cell_type": "code",
   "execution_count": null,
   "outputs": [],
   "source": [
    "structList = []\n",
    "for permutation in allPermutations:\n",
    "    tempStructure = baseStructure.copy()\n",
    "    for unique, el in zip(uniqueDict, permutation):\n",
    "        for site in uniqueDict[unique]:\n",
    "            tempStructure.replace(site, el)\n",
    "    structList.append(tempStructure)\n",
    "print(structList[172])"
   ],
   "metadata": {
    "collapsed": false
   }
  },
  {
   "cell_type": "code",
   "execution_count": null,
   "outputs": [],
   "source": [
    "c = Calculator()"
   ],
   "metadata": {
    "collapsed": false
   }
  },
  {
   "cell_type": "code",
   "execution_count": null,
   "outputs": [],
   "source": [
    "c.runModels(structList=structList, descriptor='KS2022', mode='parallel', max_workers=6)"
   ],
   "metadata": {
    "collapsed": false
   }
  },
  {
   "cell_type": "code",
   "execution_count": null,
   "outputs": [],
   "source": [
    "c.get_resultDicts()"
   ],
   "metadata": {
    "collapsed": false
   }
  },
  {
   "cell_type": "code",
   "execution_count": null,
   "outputs": [],
   "source": [
    "c.runModels(structList=structList, descriptor='Ward2017', mode='parallel', max_workers=6)"
   ],
   "metadata": {
    "collapsed": false
   }
  },
  {
   "cell_type": "code",
   "execution_count": null,
   "outputs": [],
   "source": [
    "c.get_resultDicts()"
   ],
   "metadata": {
    "collapsed": false
   }
  },
  {
   "cell_type": "markdown",
   "source": [
    "### Add a new model!"
   ],
   "metadata": {
    "collapsed": false
   }
  },
  {
   "cell_type": "markdown",
   "source": [
    "Adding a new model that accepts one of the descriptors / feature vectors implemented in pySIPFENN is very easy! No matter if it is a re-trained model to fit a specific set of species, or entirely new architecture. It doesn't even need to be created in PyTorch, as pySIPFENN imports ONNX format which can be the export target of almost all ML frameworks.\n",
    "To add your model, you just need to put it in the _modelsSIPFENN_ directory in the pySIPFENN location and add a brief definition to the _models.json_ file, with field name matching model file name, descriptive name, and specify which descriptor has been used. E.g.,:\n",
    "\n",
    "      \"SIPFENN_myNewModel\": {\n",
    "        \"name\": \"SIPFENN_Krajewski2022 KS2022 Novel Materials Model - Retrained for Personal Needs\",\n",
    "        \"descriptor\": \"KS2022\"\n",
    "      }\n",
    "\n",
    "Then just re-initialize the calcualtor and everything should be loaded automatically!"
   ],
   "metadata": {
    "collapsed": false
   }
  },
  {
   "cell_type": "code",
   "execution_count": null,
   "outputs": [],
   "source": [
    "c = Calculator()"
   ],
   "metadata": {
    "collapsed": false
   }
  },
  {
   "cell_type": "code",
   "execution_count": null,
   "outputs": [],
   "source": [
    "c.runModels(structList=structList, descriptor='KS2022', mode='parallel', max_workers=6)"
   ],
   "metadata": {
    "collapsed": false
   }
  },
  {
   "cell_type": "markdown",
   "source": [],
   "metadata": {
    "collapsed": false
   }
  }
 ],
 "metadata": {
  "kernelspec": {
   "display_name": "Python 3",
   "language": "python",
   "name": "python3"
  },
  "language_info": {
   "codemirror_mode": {
    "name": "ipython",
    "version": 2
   },
   "file_extension": ".py",
   "mimetype": "text/x-python",
   "name": "python",
   "nbconvert_exporter": "python",
   "pygments_lexer": "ipython2",
   "version": "2.7.6"
  }
 },
 "nbformat": 4,
 "nbformat_minor": 0
}
