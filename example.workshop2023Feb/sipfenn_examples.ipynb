{
 "cells": [
  {
   "cell_type": "markdown",
   "source": [
    "### pySIPFENN MGF-PSU Workshop (Feb 2023)\n",
    "\n",
    "This Jupyter notebook is a brief walkthrough covering core functionalities of the **pySIPFENN** or **py**(**S**tructure-**I**nformed **P**rediction of **F**ormation **E**nergy using **N**eural **N**etworks) package; available through the PyPI repository. A fuller description of capabilities is given at PSU Phases Research Lab webpage under _phaseslab.com/sipfenn_."
   ],
   "metadata": {
    "collapsed": false
   }
  },
  {
   "cell_type": "markdown",
   "source": [
    "### Install pySIPFENN\n",
    "\n",
    "Installing pySIPFENN is simple and easy utilizing either **PyPI** package repository or cloning from **GitHub**. While not required, it is recommended to first set up a virtual environement using venv or Conda. This ensures that one of the required versions of Python (3.9+) is used and there are no dependency conflicts. To create one\n",
    "\n",
    "    conda create -n pysipfenn-workshop python=3.9 jupyter\n",
    "    conda activate pysipfenn-workshop\n",
    "\n",
    "And then install pySIPFENN from PyPI with\n",
    "\n",
    "    pip install pysipfenn\n",
    "\n",
    "Alternatively, you can also install pySIPFENN in editable mode if you cloned it from GitHub like\n",
    "\n",
    "    git clone https://github.com/PhasesResearchLab/pySIPFENN.git\n",
    "\n",
    "Or by downloading a ZIP file. Then, move to the pySIPFENN folder and install in editable (-e) mode\n",
    "\n",
    "    cd pySIPFENN\n",
    "    pip install -e .\n"
   ],
   "metadata": {
    "collapsed": false
   }
  },
  {
   "cell_type": "markdown",
   "source": [
    "### Starting pySIPFENN\n",
    "\n",
    "To utilize pySIPFENN for straightforward calculations, only the Calculator class is needed. It allows for both fetching and identification of NN models and later running of them."
   ],
   "metadata": {
    "collapsed": false
   }
  },
  {
   "cell_type": "code",
   "execution_count": 1,
   "metadata": {
    "collapsed": true
   },
   "outputs": [],
   "source": [
    "from pysipfenn import Calculator"
   ]
  },
  {
   "cell_type": "markdown",
   "source": [
    "Now initialize the Calculator. When run, this should display all models detected\n",
    "(e.g. ✔ SIPFENN_Krajewski2020 Standard Materials Model)\n",
    "and those not detected, but declared in the _modelsSIPFENN/models.json_ file."
   ],
   "metadata": {
    "collapsed": false
   }
  },
  {
   "cell_type": "code",
   "execution_count": 2,
   "outputs": [
    {
     "name": "stdout",
     "output_type": "stream",
     "text": [
      "✔ SIPFENN_Krajewski2020 Standard Materials Model\n",
      "✔ SIPFENN_Krajewski2020 Novel Materials Model\n",
      "✔ SIPFENN_Krajewski2020 Light Model\n",
      "✔ SIPFENN_Krajewski2022 KS2022 Novel Materials Model\n",
      "Loading models:\n"
     ]
    },
    {
     "name": "stderr",
     "output_type": "stream",
     "text": [
      "100%|██████████| 4/4 [00:13<00:00,  3.30s/it]"
     ]
    },
    {
     "name": "stdout",
     "output_type": "stream",
     "text": [
      "*********  PySIPFENN Successfully Initialized  **********\n"
     ]
    },
    {
     "name": "stderr",
     "output_type": "stream",
     "text": [
      "\n"
     ]
    }
   ],
   "source": [
    "c = Calculator()"
   ],
   "metadata": {
    "collapsed": false
   }
  },
  {
   "cell_type": "markdown",
   "source": [
    "If this is the first run of pySIPFENN and no models are available, one can fetch four default (as of Feb 2023) models from Zenodo with a simple:"
   ],
   "metadata": {
    "collapsed": false
   }
  },
  {
   "cell_type": "code",
   "execution_count": 3,
   "outputs": [
    {
     "name": "stdout",
     "output_type": "stream",
     "text": [
      "Fetching all networks!\n",
      "SIPFENN_Krajewski2020_NN9 detected on disk. Ready to use.\n",
      "SIPFENN_Krajewski2020_NN20 detected on disk. Ready to use.\n",
      "SIPFENN_Krajewski2020_NN24 detected on disk. Ready to use.\n",
      "SIPFENN_Krajewski2022_NN30 detected on disk. Ready to use.\n",
      "All networks available!\n",
      "✔ SIPFENN_Krajewski2020 Standard Materials Model\n",
      "✔ SIPFENN_Krajewski2020 Novel Materials Model\n",
      "✔ SIPFENN_Krajewski2020 Light Model\n",
      "✔ SIPFENN_Krajewski2022 KS2022 Novel Materials Model\n",
      "Loading models:\n"
     ]
    },
    {
     "name": "stderr",
     "output_type": "stream",
     "text": [
      "100%|██████████| 4/4 [00:10<00:00,  2.59s/it]\n"
     ]
    }
   ],
   "source": [
    "c.downloadModels()\n",
    "c.loadModels()"
   ],
   "metadata": {
    "collapsed": false
   }
  },
  {
   "cell_type": "markdown",
   "source": [
    "For the purpose of testing, a single model is sufficient and will be fetched faster. E.g. the light model can be acquired in about 1/10 of the time."
   ],
   "metadata": {
    "collapsed": false
   }
  },
  {
   "cell_type": "code",
   "execution_count": null,
   "outputs": [],
   "source": [
    "#c.downloadModels(network='SIPFENN_Krajewski2020_NN24')\n",
    "#c.loadModels()"
   ],
   "metadata": {
    "collapsed": false
   }
  },
  {
   "cell_type": "markdown",
   "source": [
    "### Simple run"
   ],
   "metadata": {
    "collapsed": false
   }
  },
  {
   "cell_type": "code",
   "execution_count": null,
   "outputs": [],
   "source": [
    "#c.runFromDirectory(directory='myInputFiles', descriptor='KS2022')"
   ],
   "metadata": {
    "collapsed": false
   }
  },
  {
   "cell_type": "code",
   "execution_count": 6,
   "outputs": [
    {
     "name": "stdout",
     "output_type": "stream",
     "text": [
      "Importing structures...\n"
     ]
    },
    {
     "name": "stderr",
     "output_type": "stream",
     "text": [
      "100%|██████████| 32/32 [00:00<00:00, 128.20it/s]\n"
     ]
    },
    {
     "name": "stdout",
     "output_type": "stream",
     "text": [
      "\n",
      "Models that will be run: ['SIPFENN_Krajewski2022_NN30']\n",
      "Calculating descriptors...\n"
     ]
    },
    {
     "name": "stderr",
     "output_type": "stream",
     "text": [
      "100%|██████████| 32/32 [00:07<00:00,  4.06it/s]"
     ]
    },
    {
     "name": "stdout",
     "output_type": "stream",
     "text": [
      "Done!\n",
      "Making predictions...\n",
      "Obtained predictions from:  SIPFENN_Krajewski2022_NN30\n",
      "Done!\n"
     ]
    },
    {
     "name": "stderr",
     "output_type": "stream",
     "text": [
      "\n"
     ]
    }
   ],
   "source": [
    "c.runFromDirectory(directory='../pysipfenn/tests/testCaseFiles/exampleInputFiles/', descriptor='KS2022')"
   ],
   "metadata": {
    "collapsed": false
   }
  },
  {
   "cell_type": "code",
   "execution_count": 7,
   "outputs": [],
   "source": [
    "c.writeResultsToCSV('myResults.csv')"
   ],
   "metadata": {
    "collapsed": false
   }
  },
  {
   "cell_type": "code",
   "execution_count": 9,
   "outputs": [
    {
     "data": {
      "text/plain": "[{'name': '0-Cr8Fe18Ni4.POSCAR',\n  'SIPFENN_Krajewski2022_NN30': 0.17857088148593903},\n {'name': '1-Cr16Fe8Ni6.POSCAR',\n  'SIPFENN_Krajewski2022_NN30': 0.22403044998645782},\n {'name': '2-Fe8Ni22.POSCAR',\n  'SIPFENN_Krajewski2022_NN30': 0.07981749624013901},\n {'name': '3-Cr18Fe12.POSCAR',\n  'SIPFENN_Krajewski2022_NN30': 0.30798229575157166},\n {'name': '4-Fe30.POSCAR', 'SIPFENN_Krajewski2022_NN30': 0.17809279263019562},\n {'name': '5-Cr22Fe8.POSCAR',\n  'SIPFENN_Krajewski2022_NN30': 0.30708691477775574},\n {'name': '6-Fe2Ni28.POSCAR',\n  'SIPFENN_Krajewski2022_NN30': 0.1531030684709549},\n {'name': '7-Cr18Fe12.POSCAR',\n  'SIPFENN_Krajewski2022_NN30': 0.29845377802848816},\n {'name': '8-Cr2Fe16Ni12.POSCAR',\n  'SIPFENN_Krajewski2022_NN30': 0.14972664415836334},\n {'name': '9-Pb8O12.POSCAR', 'SIPFENN_Krajewski2022_NN30': -1.293998122215271},\n {'name': '10-Ce4Ti4O12.POSCAR',\n  'SIPFENN_Krajewski2022_NN30': -3.1219778060913086},\n {'name': '11-Fe10Ni20.POSCAR',\n  'SIPFENN_Krajewski2022_NN30': 0.14550061523914337},\n {'name': '12-Gd4Cr4O12.POSCAR',\n  'SIPFENN_Krajewski2022_NN30': -3.13028883934021},\n {'name': '13-Fe16Ni14.POSCAR',\n  'SIPFENN_Krajewski2022_NN30': 0.15734197199344635},\n {'name': '14-Fe24Ni6.POSCAR',\n  'SIPFENN_Krajewski2022_NN30': 0.1955328732728958},\n {'name': '15-Ta4Tl4O12.POSCAR',\n  'SIPFENN_Krajewski2022_NN30': -2.4439806938171387},\n {'name': '16-Fe18Ni12.POSCAR',\n  'SIPFENN_Krajewski2022_NN30': 0.17821981012821198},\n {'name': '17-Pr4Ga4O12.POSCAR',\n  'SIPFENN_Krajewski2022_NN30': -2.7109057903289795},\n {'name': '18-Fe28Ni2.POSCAR',\n  'SIPFENN_Krajewski2022_NN30': 0.19565482437610626},\n {'name': '19-Fe4Ni26.POSCAR',\n  'SIPFENN_Krajewski2022_NN30': 0.1463887244462967},\n {'name': '20-Fe8Ni22.POSCAR',\n  'SIPFENN_Krajewski2022_NN30': 0.20145942270755768},\n {'name': '21-Fe10Ni20.POSCAR',\n  'SIPFENN_Krajewski2022_NN30': 0.06464465707540512},\n {'name': '22-Fe10Ni20.POSCAR',\n  'SIPFENN_Krajewski2022_NN30': 0.0872097834944725},\n {'name': '23-Fe12Ni18.POSCAR',\n  'SIPFENN_Krajewski2022_NN30': 0.18126989901065826},\n {'name': '24-Fe16Ni14.POSCAR',\n  'SIPFENN_Krajewski2022_NN30': 0.1982652097940445},\n {'name': '25-Fe12Ni18.POSCAR',\n  'SIPFENN_Krajewski2022_NN30': 0.1550731211900711},\n {'name': '26-Fe8Ni22.POSCAR',\n  'SIPFENN_Krajewski2022_NN30': 0.12777085602283478},\n {'name': '27-Cr28Fe2.POSCAR',\n  'SIPFENN_Krajewski2022_NN30': 0.33034905791282654},\n {'name': '28-Fe26Ni4.POSCAR',\n  'SIPFENN_Krajewski2022_NN30': 0.20284052193164825},\n {'name': '29-Fe12Ni18.POSCAR',\n  'SIPFENN_Krajewski2022_NN30': 0.11046930402517319},\n {'name': '30-Cr26Fe4.POSCAR',\n  'SIPFENN_Krajewski2022_NN30': 0.324007123708725},\n {'name': '31-Li24Al4Ni32.POSCAR',\n  'SIPFENN_Krajewski2022_NN30': 0.26591750979423523}]"
     },
     "execution_count": 9,
     "metadata": {},
     "output_type": "execute_result"
    }
   ],
   "source": [
    "c.get_resultDictsWithNames()"
   ],
   "metadata": {
    "collapsed": false
   }
  }
 ],
 "metadata": {
  "kernelspec": {
   "display_name": "Python 3",
   "language": "python",
   "name": "python3"
  },
  "language_info": {
   "codemirror_mode": {
    "name": "ipython",
    "version": 2
   },
   "file_extension": ".py",
   "mimetype": "text/x-python",
   "name": "python",
   "nbconvert_exporter": "python",
   "pygments_lexer": "ipython2",
   "version": "2.7.6"
  }
 },
 "nbformat": 4,
 "nbformat_minor": 0
}
