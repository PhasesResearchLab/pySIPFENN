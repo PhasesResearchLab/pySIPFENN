{
 "cells": [
  {
   "cell_type": "markdown",
   "metadata": {},
   "source": [
    "### pySIPFENN MGF-PSU Workshop (Feb 2023)\n",
    "\n",
    "This Jupyter notebook is a brief walkthrough covering core functionalities of the **pySIPFENN** or **py**(**S**tructure-**I**nformed **P**rediction of **F**ormation **E**nergy using **N**eural **N**etworks) package; available through the PyPI repository. For a full up-to-date documentation, please refer to the [pySIPFENN GitHub repository](https://git.pysipfenn.org) or the [pySIPFENN documentation](https://pysipfenn.org). You can also find news about our projects using SIPFENN at our [Phases Research Lab](https://phaseslab.org) group website."
   ]
  },
  {
   "cell_type": "markdown",
   "metadata": {},
   "source": [
    "<p align=\"center\">\n",
    "  <img src=\"assets/neuralnetcolorized.png\" width=\"500\"/>\n",
    "</p>"
   ]
  },
  {
   "cell_type": "markdown",
   "metadata": {},
   "source": [
    "### Install pySIPFENN\n",
    "\n",
    "Installing pySIPFENN is simple and easy utilizing either **PyPI** package repository or cloning from **GitHub**.\n",
    "While not required, it is recommended to first set up a virtual environment using venv or Conda. This ensures that\n",
    "one of the required versions of Python (3.9+) is used and there are no dependency conflicts. If you have Conda\n",
    "installed on your system ( [see miniconda instructions](https://docs.conda.io/en/latest/miniconda.html) ), you can create a new environment with:\n",
    "\n",
    "    conda create -n pysipfenn-workshop python=3.9 jupyter\n",
    "    conda activate pysipfenn-workshop\n",
    "\n",
    "And then simply install pySIPFENN from PyPI with\n",
    "\n",
    "    pip install pysipfenn"
   ]
  },
  {
   "cell_type": "code",
   "execution_count": 1,
   "outputs": [],
   "source": [
    "!pip install pysipfenn"
   ],
   "metadata": {
    "collapsed": false
   }
  },
  {
   "cell_type": "markdown",
   "source": [
    "Alternatively, you can also install pySIPFENN in editable mode if you cloned it from GitHub like\n",
    "\n",
    "    git clone https://github.com/PhasesResearchLab/pySIPFENN.git\n",
    "\n",
    "Or by downloading a ZIP file. Please note, this will by default download the latest development version of the\n",
    "software, which may not be stable. For a stable version, you can specify a version tag after the URL with\n",
    "`--branch <tag_name> --single-branch`.\n",
    "\n",
    "Then, move to the pySIPFENN folder and install in editable (`-e`) mode\n",
    "\n",
    "    cd pySIPFENN\n",
    "    pip install -e ."
   ],
   "metadata": {
    "collapsed": false
   }
  },
  {
   "cell_type": "markdown",
   "metadata": {},
   "source": [
    "### Starting pySIPFENN\n",
    "\n",
    "To utilize pySIPFENN for straightforward calculations, **only the Calculator class is needed**. It allows for both fetching and identification of NN models and later running of them."
   ]
  },
  {
   "cell_type": "code",
   "execution_count": 2,
   "metadata": {
    "collapsed": true
   },
   "outputs": [],
   "source": [
    "import pysipfenn\n",
    "from pysipfenn import Calculator     # The only thing needed for calculations"
   ]
  },
  {
   "cell_type": "markdown",
   "source": [
    "For pretty printing we also import pretty print Python built-in library. For convenience, we also import defaultdict from collections."
   ],
   "metadata": {
    "collapsed": false
   }
  },
  {
   "cell_type": "code",
   "execution_count": 3,
   "outputs": [],
   "source": [
    "from pprint import pprint            # pretty printing\n",
    "from collections import defaultdict  # convenience in the example"
   ],
   "metadata": {
    "collapsed": false
   }
  },
  {
   "cell_type": "markdown",
   "metadata": {},
   "source": [
    "Now initialize the Calculator. When run, this should display all models detected\n",
    "(e.g. ✔ SIPFENN_Krajewski2020 Standard Materials Model)\n",
    "and those not detected, but declared in the _modelsSIPFENN/models.json_ file."
   ]
  },
  {
   "cell_type": "code",
   "execution_count": 4,
   "metadata": {},
   "outputs": [
    {
     "name": "stdout",
     "output_type": "stream",
     "text": [
      "✔ SIPFENN_Krajewski2020 Standard Materials Model\n",
      "✔ SIPFENN_Krajewski2020 Novel Materials Model\n",
      "✔ SIPFENN_Krajewski2020 Light Model\n",
      "✔ SIPFENN_Krajewski2022 KS2022 Novel Materials Model\n",
      "Loading models:\n"
     ]
    },
    {
     "name": "stderr",
     "output_type": "stream",
     "text": [
      "100%|██████████| 4/4 [00:08<00:00,  2.20s/it]"
     ]
    },
    {
     "name": "stdout",
     "output_type": "stream",
     "text": [
      "*********  PySIPFENN Successfully Initialized  **********\n"
     ]
    },
    {
     "name": "stderr",
     "output_type": "stream",
     "text": [
      "\n"
     ]
    }
   ],
   "source": [
    "c = Calculator()"
   ]
  },
  {
   "cell_type": "markdown",
   "metadata": {},
   "source": [
    "In this workshop, all models were made avaialble from the start, but on your machine, if this is the first run of pySIPFENN, no models will be available. However, one can easily fetch four default (as of Feb 2023) models from Zenodo with a simple:"
   ]
  },
  {
   "cell_type": "code",
   "execution_count": 5,
   "metadata": {},
   "outputs": [],
   "source": [
    "#c.downloadModels()\n",
    "#c.loadModels()"
   ]
  },
  {
   "cell_type": "markdown",
   "metadata": {},
   "source": [
    "For the purpose of testing, a single model is sufficient and will be fetched faster. E.g. the lightweight model ('SIPFENN_Krajewski2020_NN24') can be acquired in about 1/30 of the time required to download all four."
   ]
  },
  {
   "cell_type": "code",
   "execution_count": 6,
   "metadata": {},
   "outputs": [],
   "source": [
    "#c.downloadModels(network='SIPFENN_Krajewski2020_NN24')\n",
    "#c.loadModels()"
   ]
  },
  {
   "cell_type": "markdown",
   "source": [
    "In a typical scenario, everything would work smoothly, but in some cases you may not be allowed to write into pySIPFENN package directory. Last part of this workshop will cover how to work around this limitation."
   ],
   "metadata": {
    "collapsed": false
   }
  },
  {
   "cell_type": "markdown",
   "metadata": {},
   "source": [
    "### Simple run from directory"
   ]
  },
  {
   "cell_type": "markdown",
   "metadata": {},
   "source": [
    "The simplest and most common usage of pySIPFENN is to deploy it on a directory/folder containing atomic structure files such as POSCAR or CIF. To of so, one simply specifies its location and which descriptor / feature vector should be used. The latter determines which ML models will be run, as they require a list of specific and ordered features as input. Furthermore, while the exact model can be specified by the user, by default all applicable models are run, as the run itself is 1-3 orders of magnitude faster than descriptor calculation.\n",
    "\n",
    "    c.runFromDirectory(directory='myInputFiles', descriptor='KS2022')"
   ]
  },
  {
   "cell_type": "markdown",
   "metadata": {},
   "source": [
    "In this demonstration, a set of test files shipped with pySIPFENN under **directory**"
   ]
  },
  {
   "cell_type": "code",
   "execution_count": 7,
   "outputs": [],
   "source": [
    "#testFilesDir = \"pysipfenn/tests/testCaseFiles/exampleInputFiles/\""
   ],
   "metadata": {
    "collapsed": false
   }
  },
  {
   "cell_type": "markdown",
   "source": [
    "is used. If you are using pySIPFENN in editable mode, you can simply use the above code to specify the directory. If you are using pySIPFENN from PyPI, you can use the following code to import test structures from the package."
   ],
   "metadata": {
    "collapsed": false
   }
  },
  {
   "cell_type": "code",
   "execution_count": 8,
   "outputs": [],
   "source": [
    "from importlib import resources\n",
    "testFilesDir = resources.files('pysipfenn').joinpath('tests/testCaseFiles/exampleInputFiles/')"
   ],
   "metadata": {
    "collapsed": false
   }
  },
  {
   "cell_type": "markdown",
   "source": [
    "However, feel free to change the directory to something with your structure files. Please note that the file extension (e.g. _.POSCAR_) is required for correct import and different types (POSCAR and CIF) can be mixed. Assuming you are in the workshop directory and you put something in the myInputFiles you can run the following"
   ],
   "metadata": {
    "collapsed": false
   }
  },
  {
   "cell_type": "code",
   "execution_count": 9,
   "outputs": [],
   "source": [
    "#testFilesDir = 'myInputFiles'"
   ],
   "metadata": {
    "collapsed": false
   }
  },
  {
   "cell_type": "markdown",
   "metadata": {},
   "source": [
    "Furthermore, you can specify whether pySIPFENN should run in series or parallel **calculation mode**. The parallel mode is generally faster, but uses more system resources and may be slower on low-power machines with not enough CPU cores. Serial mode is also preferred if there are less than 5 calculations/worker due to multiprocessing overheads."
   ]
  },
  {
   "cell_type": "code",
   "execution_count": 10,
   "metadata": {},
   "outputs": [
    {
     "name": "stdout",
     "output_type": "stream",
     "text": [
      "Importing structures...\n"
     ]
    },
    {
     "name": "stderr",
     "output_type": "stream",
     "text": [
      "100%|██████████| 32/32 [00:00<00:00, 528.58it/s]\n"
     ]
    },
    {
     "name": "stdout",
     "output_type": "stream",
     "text": [
      "\n",
      "Models that will be run: ['SIPFENN_Krajewski2022_NN30']\n",
      "Calculating descriptors...\n"
     ]
    },
    {
     "name": "stderr",
     "output_type": "stream",
     "text": [
      "100%|██████████| 32/32 [00:03<00:00,  8.25it/s]"
     ]
    },
    {
     "name": "stdout",
     "output_type": "stream",
     "text": [
      "Done!\n",
      "Making predictions...\n",
      "Prediction rate: 560.1 pred/s\n",
      "Obtained 32 predictions from:  SIPFENN_Krajewski2022_NN30\n",
      "Done!\n"
     ]
    },
    {
     "name": "stderr",
     "output_type": "stream",
     "text": [
      "\n"
     ]
    }
   ],
   "source": [
    "c.runFromDirectory(directory=testFilesDir,\n",
    "                   descriptor='KS2022',\n",
    "                   mode='serial');"
   ]
  },
  {
   "cell_type": "markdown",
   "metadata": {},
   "source": [
    "Now, all results are obtained and stored within the **c** Calculator object inside a few exposed conveniently named variables\n",
    "_predictions_ and _inputFiles_. Also, the descriptor data is retained in _descriptorData_ if needed. Let's look up the first 3 entries. Note that the unit of prediction will depend on the model used; in this case, it is eV/atom."
   ]
  },
  {
   "cell_type": "code",
   "execution_count": 11,
   "metadata": {},
   "outputs": [
    {
     "name": "stdout",
     "output_type": "stream",
     "text": [
      "['0-Cr8Fe18Ni4.POSCAR', '1-Cr16Fe8Ni6.POSCAR', '2-Fe8Ni22.POSCAR']\n",
      "[[0.17857100069522858], [0.22403092682361603], [0.07981809228658676]]\n"
     ]
    }
   ],
   "source": [
    "pprint(c.inputFiles[:3])\n",
    "pprint(c.predictions[:3])"
   ]
  },
  {
   "cell_type": "markdown",
   "metadata": {},
   "source": [
    "For user convenience, a few methods are provided for extracting the results. E.g., if pySIPFENN has been run from structure files, the _get_resultDictsWithNames()_ method is available to conveniently pass results forward in the code."
   ]
  },
  {
   "cell_type": "code",
   "execution_count": 12,
   "metadata": {},
   "outputs": [
    {
     "data": {
      "text/plain": "[{'name': '0-Cr8Fe18Ni4.POSCAR',\n  'SIPFENN_Krajewski2022_NN30': 0.17857100069522858},\n {'name': '1-Cr16Fe8Ni6.POSCAR',\n  'SIPFENN_Krajewski2022_NN30': 0.22403092682361603},\n {'name': '2-Fe8Ni22.POSCAR',\n  'SIPFENN_Krajewski2022_NN30': 0.07981809228658676}]"
     },
     "execution_count": 12,
     "metadata": {},
     "output_type": "execute_result"
    }
   ],
   "source": [
    "c.get_resultDictsWithNames()[:3]"
   ]
  },
  {
   "cell_type": "markdown",
   "metadata": {},
   "source": [
    "Alternatively, if results are to be preserved in a spreadsheet, they can be exported into a CSV."
   ]
  },
  {
   "cell_type": "code",
   "execution_count": 13,
   "metadata": {},
   "outputs": [],
   "source": [
    "c.writeResultsToCSV('myFirstResults_pySIPFENN.csv')"
   ]
  },
  {
   "cell_type": "markdown",
   "metadata": {},
   "source": [
    "### Sigma-Phase 5-sublattice model\n",
    "\n",
    "In the previous example we went over a set of POSCAR files in a directory without performing any non-automated manipulation. This is what authors expect will be the most common use pattern. However, pySIPFENN can be effortlessly combined with other structure analysis and manipulation software to fulfill more advanced needs. Here, as an example, we will play with a fairly complex **topologically close packed (TCP) phase called Sigma** possesing 5 chemically unique sites, which will be automatically identified from one configuration, like the one in figure below. Then we will look at energetics of all possible occupancies by 3 elements.\n",
    "\n",
    "<p align=\"center\">\n",
    "  <img src=\"assets/112-Cr12Fe10Ni8.png\" width=\"500\"/>\n",
    "</p>\n",
    "\n",
    " For structure manipulation we will utilize pymatgen Structure. The [Spglib library](spglib.github.io/spglib), accessed through pymatgen, will perform the symmetry analysis. We begin with import of appropriate modules."
   ]
  },
  {
   "cell_type": "code",
   "execution_count": 14,
   "metadata": {},
   "outputs": [],
   "source": [
    "from pymatgen.core import Structure\n",
    "from pymatgen.analysis.structure_analyzer import SpacegroupAnalyzer"
   ]
  },
  {
   "cell_type": "markdown",
   "metadata": {},
   "source": [
    "Next, we take any end-member of the atomic structure in question. Conveniently, one of them is already in the test case files. Then we replace all species in it with dummy ones."
   ]
  },
  {
   "cell_type": "code",
   "execution_count": 15,
   "metadata": {},
   "outputs": [
    {
     "name": "stdout",
     "output_type": "stream",
     "text": [
      "Full Formula (Dummy30)\n",
      "Reduced Formula: Dummy\n",
      "abc   :   8.547048   8.547048   4.477714\n",
      "angles:  90.000000  90.000000  90.000000\n",
      "pbc   :       True       True       True\n",
      "Sites (30)\n",
      "  #  SP              a         b         c\n",
      "---  -------  --------  --------  --------\n",
      "  0  Dummy0+  0.737702  0.063709  0\n",
      "  1  Dummy0+  0.262298  0.936291  0\n",
      "  2  Dummy0+  0.436291  0.237702  0.5\n",
      "  3  Dummy0+  0.762298  0.563709  0.5\n",
      "  4  Dummy0+  0.563709  0.762298  0.5\n",
      "  5  Dummy0+  0.237702  0.436291  0.5\n",
      "  6  Dummy0+  0.063709  0.737702  0\n",
      "  7  Dummy0+  0.936291  0.262298  0\n",
      "  8  Dummy0+  0         0         0\n",
      "  9  Dummy0+  0.5       0.5       0.5\n",
      " 10  Dummy0+  0.463029  0.129472  0\n",
      " 11  Dummy0+  0.536971  0.870528  0\n",
      " 12  Dummy0+  0.370528  0.963029  0.5\n",
      " 13  Dummy0+  0.036971  0.629472  0.5\n",
      " 14  Dummy0+  0.629472  0.036971  0.5\n",
      " 15  Dummy0+  0.963029  0.370528  0.5\n",
      " 16  Dummy0+  0.129472  0.463029  0\n",
      " 17  Dummy0+  0.870528  0.536971  0\n",
      " 18  Dummy0+  0.182718  0.182718  0.251726\n",
      " 19  Dummy0+  0.817282  0.817282  0.748274\n",
      " 20  Dummy0+  0.817282  0.817282  0.251726\n",
      " 21  Dummy0+  0.317282  0.682718  0.751726\n",
      " 22  Dummy0+  0.317282  0.682718  0.248274\n",
      " 23  Dummy0+  0.182718  0.182718  0.748274\n",
      " 24  Dummy0+  0.682718  0.317282  0.248274\n",
      " 25  Dummy0+  0.682718  0.317282  0.751726\n",
      " 26  Dummy0+  0.39991   0.39991   0\n",
      " 27  Dummy0+  0.60009   0.60009   0\n",
      " 28  Dummy0+  0.10009   0.89991   0.5\n",
      " 29  Dummy0+  0.89991   0.10009   0.5\n"
     ]
    }
   ],
   "source": [
    "endMemberPath = resources.files('pysipfenn').joinpath('tests/testCaseFiles/exampleInputFiles/0-Cr8Fe18Ni4.POSCAR')\n",
    "baseStructure = Structure.from_file(endMemberPath)\n",
    "for el in set(baseStructure.species):\n",
    "    baseStructure.replace_species({el: 'dummy'})\n",
    "print(baseStructure)"
   ]
  },
  {
   "cell_type": "markdown",
   "metadata": {},
   "source": [
    "Then we use Spglib to find and group unique chemical sites in the structure and lists of their equivalents. In the case of Sigma-phase, there are 5 such sites, also called **sublattices**."
   ]
  },
  {
   "cell_type": "code",
   "execution_count": 16,
   "metadata": {},
   "outputs": [
    {
     "name": "stdout",
     "output_type": "stream",
     "text": [
      "defaultdict(<class 'list'>,\n",
      "            {0: [0, 1, 2, 3, 4, 5, 6, 7],\n",
      "             8: [8, 9],\n",
      "             10: [10, 11, 12, 13, 14, 15, 16, 17],\n",
      "             18: [18, 19, 20, 21, 22, 23, 24, 25],\n",
      "             26: [26, 27, 28, 29]})\n"
     ]
    }
   ],
   "source": [
    "spgA = SpacegroupAnalyzer(baseStructure)\n",
    "eqAtoms = spgA.get_symmetry_dataset()['equivalent_atoms']\n",
    "uniqueDict = defaultdict(list)\n",
    "for site, unique in enumerate(eqAtoms):\n",
    "    uniqueDict[unique] += [site]\n",
    "pprint(uniqueDict)"
   ]
  },
  {
   "cell_type": "markdown",
   "metadata": {},
   "source": [
    "Now, with unique sites identified, we need to find all possible occupancies in the chemical system in question. Here we look at the Cr-Fe-Ni ternary. We expect 3^5=243 possible permutations with repetition."
   ]
  },
  {
   "cell_type": "code",
   "execution_count": 17,
   "metadata": {},
   "outputs": [
    {
     "name": "stdout",
     "output_type": "stream",
     "text": [
      "Obtained 243 permutations of the sublattice occupancy\n",
      "E.g.:  ('Fe', 'Cr', 'Fe', 'Cr', 'Ni')\n"
     ]
    }
   ],
   "source": [
    "from itertools import product\n",
    "allPermutations = list(product(['Fe', 'Cr', 'Ni'], repeat=5))\n",
    "print(f'Obtained {len(allPermutations)} permutations of the sublattice occupancy\\nE.g.:  {allPermutations[32]}')"
   ]
  },
  {
   "cell_type": "code",
   "execution_count": 18,
   "metadata": {},
   "outputs": [
    {
     "name": "stdout",
     "output_type": "stream",
     "text": [
      "Full Formula (Cr10 Fe16 Ni4)\n",
      "Reduced Formula: Cr5(Fe4Ni)2\n",
      "abc   :   8.547048   8.547048   4.477714\n",
      "angles:  90.000000  90.000000  90.000000\n",
      "pbc   :       True       True       True\n",
      "Sites (30)\n",
      "  #  SP           a         b         c\n",
      "---  ----  --------  --------  --------\n",
      "  0  Fe    0.737702  0.063709  0\n",
      "  1  Fe    0.262298  0.936291  0\n",
      "  2  Fe    0.436291  0.237702  0.5\n",
      "  3  Fe    0.762298  0.563709  0.5\n",
      "  4  Fe    0.563709  0.762298  0.5\n",
      "  5  Fe    0.237702  0.436291  0.5\n",
      "  6  Fe    0.063709  0.737702  0\n",
      "  7  Fe    0.936291  0.262298  0\n",
      "  8  Cr    0         0         0\n",
      "  9  Cr    0.5       0.5       0.5\n",
      " 10  Fe    0.463029  0.129472  0\n",
      " 11  Fe    0.536971  0.870528  0\n",
      " 12  Fe    0.370528  0.963029  0.5\n",
      " 13  Fe    0.036971  0.629472  0.5\n",
      " 14  Fe    0.629472  0.036971  0.5\n",
      " 15  Fe    0.963029  0.370528  0.5\n",
      " 16  Fe    0.129472  0.463029  0\n",
      " 17  Fe    0.870528  0.536971  0\n",
      " 18  Cr    0.182718  0.182718  0.251726\n",
      " 19  Cr    0.817282  0.817282  0.748274\n",
      " 20  Cr    0.817282  0.817282  0.251726\n",
      " 21  Cr    0.317282  0.682718  0.751726\n",
      " 22  Cr    0.317282  0.682718  0.248274\n",
      " 23  Cr    0.182718  0.182718  0.748274\n",
      " 24  Cr    0.682718  0.317282  0.248274\n",
      " 25  Cr    0.682718  0.317282  0.751726\n",
      " 26  Ni    0.39991   0.39991   0\n",
      " 27  Ni    0.60009   0.60009   0\n",
      " 28  Ni    0.10009   0.89991   0.5\n",
      " 29  Ni    0.89991   0.10009   0.5\n"
     ]
    }
   ],
   "source": [
    "structList = []\n",
    "for permutation in allPermutations:\n",
    "    tempStructure = baseStructure.copy()\n",
    "    for unique, el in zip(uniqueDict, permutation):\n",
    "        for site in uniqueDict[unique]:\n",
    "            tempStructure.replace(site, el)\n",
    "    structList.append(tempStructure)\n",
    "print(structList[32])"
   ]
  },
  {
   "cell_type": "code",
   "execution_count": 19,
   "metadata": {},
   "outputs": [
    {
     "name": "stdout",
     "output_type": "stream",
     "text": [
      "✔ SIPFENN_Krajewski2020 Standard Materials Model\n",
      "✔ SIPFENN_Krajewski2020 Novel Materials Model\n",
      "✔ SIPFENN_Krajewski2020 Light Model\n",
      "✔ SIPFENN_Krajewski2022 KS2022 Novel Materials Model\n",
      "Loading models:\n"
     ]
    },
    {
     "name": "stderr",
     "output_type": "stream",
     "text": [
      "100%|██████████| 4/4 [00:08<00:00,  2.18s/it]"
     ]
    },
    {
     "name": "stdout",
     "output_type": "stream",
     "text": [
      "*********  PySIPFENN Successfully Initialized  **********\n"
     ]
    },
    {
     "name": "stderr",
     "output_type": "stream",
     "text": [
      "\n"
     ]
    }
   ],
   "source": [
    "c = Calculator()"
   ]
  },
  {
   "cell_type": "code",
   "execution_count": 20,
   "metadata": {},
   "outputs": [
    {
     "name": "stdout",
     "output_type": "stream",
     "text": [
      "\n",
      "Models that will be run: ['SIPFENN_Krajewski2022_NN30']\n",
      "Calculating descriptors...\n"
     ]
    },
    {
     "data": {
      "text/plain": "  0%|          | 0/243 [00:00<?, ?it/s]",
      "application/vnd.jupyter.widget-view+json": {
       "version_major": 2,
       "version_minor": 0,
       "model_id": "085a4a6971bf4e5481b0d9653c3bcf9a"
      }
     },
     "metadata": {},
     "output_type": "display_data"
    },
    {
     "name": "stdout",
     "output_type": "stream",
     "text": [
      "Done!\n",
      "Making predictions...\n",
      "Prediction rate: 1580.7 pred/s\n",
      "Obtained 243 predictions from:  SIPFENN_Krajewski2022_NN30\n",
      "[[0.17875529825687408], [0.16407020390033722], [0.204591765999794]]\n"
     ]
    }
   ],
   "source": [
    "predictions1 = c.runModels(structList=structList, descriptor='KS2022', mode='parallel', max_workers=6)\n",
    "pprint(predictions1[:3])"
   ]
  },
  {
   "cell_type": "code",
   "execution_count": 21,
   "metadata": {},
   "outputs": [
    {
     "name": "stdout",
     "output_type": "stream",
     "text": [
      "[{'SIPFENN_Krajewski2022_NN30': 0.17875529825687408},\n",
      " {'SIPFENN_Krajewski2022_NN30': 0.16407020390033722},\n",
      " {'SIPFENN_Krajewski2022_NN30': 0.204591765999794}]\n"
     ]
    }
   ],
   "source": [
    "results1 = c.get_resultDicts()\n",
    "pprint(results1[:3])"
   ]
  },
  {
   "cell_type": "markdown",
   "metadata": {},
   "source": [
    "### Run models utilizing different descriptor / feature vector\n",
    "\n",
    "As alluded to before, pySIPFENN is built to enable rapid deployment of models based around single feature vector (or a subset of it) as descriptor calculation is by far the most costly component of structure-informed ML. However, the same feature vector cannot always be used and another one is required. There are generally three reasons for that:\n",
    "\n",
    "- The feature calculations are too slow / computationally expensive to be deployed on large scale (e.g. for 1,000,000 structures).\n",
    "- The descriptor does not include all the information needed to predict the property of interest well, or does not incorporate some dimension of the problem that is important for the prediction, e.g. the magnetic state or the volume.\n",
    "- We want to use a specific model that was trained on a different descriptor and retraining it is not feasible.\n",
    "\n",
    "In this part of the tutorial, we combine previous predictions with a models based on a different descriptor (Ward2017) used in the original SIPFENN paper and run 3 models trained on it. Notably, the KS2022 we already calcualted is an optimized subset of it, giving similar performance at a fraction of the cost."
   ]
  },
  {
   "cell_type": "code",
   "execution_count": 22,
   "metadata": {},
   "outputs": [
    {
     "name": "stdout",
     "output_type": "stream",
     "text": [
      "\n",
      "Models that will be run: ['SIPFENN_Krajewski2020_NN9', 'SIPFENN_Krajewski2020_NN20', 'SIPFENN_Krajewski2020_NN24']\n",
      "Calculating descriptors...\n"
     ]
    },
    {
     "data": {
      "text/plain": "  0%|          | 0/243 [00:00<?, ?it/s]",
      "application/vnd.jupyter.widget-view+json": {
       "version_major": 2,
       "version_minor": 0,
       "model_id": "e779865db24c423697acdba9a2727eb3"
      }
     },
     "metadata": {},
     "output_type": "display_data"
    },
    {
     "name": "stdout",
     "output_type": "stream",
     "text": [
      "Done!\n",
      "Making predictions...\n",
      "Prediction rate: 750.1 pred/s\n",
      "Obtained 243 predictions from:  SIPFENN_Krajewski2020_NN9\n",
      "Prediction rate: 738.6 pred/s\n",
      "Obtained 243 predictions from:  SIPFENN_Krajewski2020_NN20\n",
      "Prediction rate: 4671.3 pred/s\n",
      "Obtained 243 predictions from:  SIPFENN_Krajewski2020_NN24\n",
      "[[0.07845475524663925, 0.07977379858493805, 0.03619053587317467],\n",
      " [0.06124945729970932, -0.011681255884468555, 0.05775585398077965],\n",
      " [0.05984892696142197, 0.06342118978500366, 0.07474067807197571]]\n"
     ]
    }
   ],
   "source": [
    "predictions2 = c.runModels(structList=structList, descriptor='Ward2017', mode='parallel', max_workers=6)\n",
    "pprint(predictions2[:3])"
   ]
  },
  {
   "cell_type": "code",
   "execution_count": 23,
   "metadata": {},
   "outputs": [
    {
     "name": "stdout",
     "output_type": "stream",
     "text": [
      "[{'SIPFENN_Krajewski2020_NN20': 0.07977379858493805,\n",
      "  'SIPFENN_Krajewski2020_NN24': 0.03619053587317467,\n",
      "  'SIPFENN_Krajewski2020_NN9': 0.07845475524663925},\n",
      " {'SIPFENN_Krajewski2020_NN20': -0.011681255884468555,\n",
      "  'SIPFENN_Krajewski2020_NN24': 0.05775585398077965,\n",
      "  'SIPFENN_Krajewski2020_NN9': 0.06124945729970932}]\n"
     ]
    }
   ],
   "source": [
    "results2 = c.get_resultDicts()\n",
    "pprint(results2[:2])"
   ]
  },
  {
   "cell_type": "markdown",
   "metadata": {},
   "source": [
    "And finally combine two list of result dictionaries together."
   ]
  },
  {
   "cell_type": "code",
   "execution_count": 24,
   "metadata": {},
   "outputs": [
    {
     "name": "stdout",
     "output_type": "stream",
     "text": [
      "[{'SIPFENN_Krajewski2020_NN20': 0.07977379858493805,\n",
      "  'SIPFENN_Krajewski2020_NN24': 0.03619053587317467,\n",
      "  'SIPFENN_Krajewski2020_NN9': 0.07845475524663925,\n",
      "  'SIPFENN_Krajewski2022_NN30': 0.17875529825687408},\n",
      " {'SIPFENN_Krajewski2020_NN20': -0.011681255884468555,\n",
      "  'SIPFENN_Krajewski2020_NN24': 0.05775585398077965,\n",
      "  'SIPFENN_Krajewski2020_NN9': 0.06124945729970932,\n",
      "  'SIPFENN_Krajewski2022_NN30': 0.16407020390033722}]\n"
     ]
    }
   ],
   "source": [
    "resultsCombined = [res1 | res2 for res1, res2 in zip(results1, results2)]\n",
    "pprint(resultsCombined[:2])"
   ]
  },
  {
   "cell_type": "code",
   "execution_count": 25,
   "metadata": {},
   "outputs": [
    {
     "name": "stdout",
     "output_type": "stream",
     "text": [
      "[{'SIPFENN_Krajewski2020_NN20': 0.10104316473007202,\n",
      "  'SIPFENN_Krajewski2020_NN24': 0.1215638816356659,\n",
      "  'SIPFENN_Krajewski2020_NN9': 0.1040281280875206,\n",
      "  'SIPFENN_Krajewski2022_NN30': 0.24544532597064972,\n",
      "  'configuration': 'Fe-Cr-Fe-Cr-Cr'},\n",
      " {'SIPFENN_Krajewski2020_NN20': 0.07383379340171814,\n",
      "  'SIPFENN_Krajewski2020_NN24': 0.05895509943366051,\n",
      "  'SIPFENN_Krajewski2020_NN9': 0.06879016011953354,\n",
      "  'SIPFENN_Krajewski2022_NN30': 0.19040270149707794,\n",
      "  'configuration': 'Fe-Cr-Fe-Cr-Ni'}]\n"
     ]
    }
   ],
   "source": [
    "resultsCombinedLabeled = [{'configuration': '-'.join(permutation)} | result for\n",
    "                          result, permutation in zip(resultsCombined, allPermutations)]\n",
    "pprint(resultsCombinedLabeled[31:33])"
   ]
  },
  {
   "cell_type": "markdown",
   "source": [
    "Lastly, we can compare our results with the DFT reference data from the original paper. This was done in the SIPFENN paper [doi.org/10.1016/j.commatsci.2022.111254](https://doi.org/10.1016/j.commatsci.2022.111254) for the 3 models based on Ward2017. The NN30 is not optimized and is not plotted here.\n",
    "\n",
    "<p align=\"center\">\n",
    "  <img src=\"assets/SigmaSQS_plots.png\" width=\"1000\"/>\n",
    "</p>\n"
   ],
   "metadata": {
    "collapsed": false
   }
  },
  {
   "cell_type": "markdown",
   "metadata": {},
   "source": [
    "### Add a new model!"
   ]
  },
  {
   "cell_type": "markdown",
   "metadata": {},
   "source": [
    "Adding a new model that accepts one of the descriptors / feature vectors implemented in pySIPFENN is very easy! No matter if it is a re-trained model to fit a specific set of species, or entirely new architecture. It doesn't even need to be created in PyTorch, as pySIPFENN imports ONNX format which can be the export target of almost all ML frameworks. For instance, models presented here were created in MxNet.\n",
    "\n",
    "To add your model, you just need to put it in the **modelsSIPFENN directory** in the pySIPFENN location and add a brief definition to the **models.json file**, with field name matching model file name, descriptive name, and specify which descriptor has been used. E.g.,:\n",
    "\n",
    "      \"SIPFENN_MyFunNet2023_NiSup\": {\n",
    "        \"name\": \"SIPFENN_Krajewski2022_NN30 re-optimized for Ni-superalloys\",\n",
    "        \"descriptor\": \"KS2022\",\n",
    "        \"note\": \"This is my new favorite model optimized for intermetallics in the Ni-based superalloys\"\n",
    "      }\n",
    "\n",
    "Then, you can just re-initialize the Calculator and everything should be loaded automatically!"
   ]
  },
  {
   "cell_type": "code",
   "execution_count": 26,
   "metadata": {},
   "outputs": [],
   "source": [
    "#c = Calculator()"
   ]
  },
  {
   "cell_type": "markdown",
   "source": [
    "Alternatively, like in the case of this workshop or some HPCs, you may not have direct write access to the pySIPFENN installation. In that case, you can add a model in your user directory and load it manually. To show that, we now copy one of pySIPFENN models to our working directory and re-name it to our liking ('SIPFENN_MyFunNet2023_NiSup')."
   ],
   "metadata": {
    "collapsed": false
   }
  },
  {
   "cell_type": "code",
   "execution_count": 27,
   "outputs": [],
   "source": [
    "import shutil\n",
    "with open(resources.files('pysipfenn').joinpath('modelsSIPFENN/SIPFENN_Krajewski2022_NN30.onnx'), 'rb') as modelForTest:\n",
    "    with open('SIPFENN_MyFunNet2023_NiSup.onnx', 'wb') as modelForTestCopy:\n",
    "        shutil.copyfileobj(modelForTest, modelForTestCopy)"
   ],
   "metadata": {
    "collapsed": false
   }
  },
  {
   "cell_type": "markdown",
   "source": [
    "And then load it manually."
   ],
   "metadata": {
    "collapsed": false
   }
  },
  {
   "cell_type": "code",
   "execution_count": 28,
   "outputs": [
    {
     "name": "stdout",
     "output_type": "stream",
     "text": [
      "Loaded model SIPFENN_Krajewski2022_NN30 re-optimized for Ni-superalloys (SIPFENN_MyFunNet2023_NiSup) from .\n"
     ]
    }
   ],
   "source": [
    "c.loadModelCustom(networkName='SIPFENN_MyFunNet2023_NiSup',\n",
    "                  modelName='SIPFENN_Krajewski2022_NN30 re-optimized for Ni-superalloys',\n",
    "                  descriptor='KS2022',\n",
    "                  modelDirectory='.')"
   ],
   "metadata": {
    "collapsed": false
   }
  },
  {
   "cell_type": "markdown",
   "source": [
    "And then simply run everything as before."
   ],
   "metadata": {
    "collapsed": false
   }
  },
  {
   "cell_type": "code",
   "execution_count": 29,
   "metadata": {},
   "outputs": [
    {
     "name": "stdout",
     "output_type": "stream",
     "text": [
      "\n",
      "Models that will be run: ['SIPFENN_Krajewski2022_NN30', 'SIPFENN_MyFunNet2023_NiSup']\n",
      "Calculating descriptors...\n"
     ]
    },
    {
     "data": {
      "text/plain": "  0%|          | 0/243 [00:00<?, ?it/s]",
      "application/vnd.jupyter.widget-view+json": {
       "version_major": 2,
       "version_minor": 0,
       "model_id": "2078f05e444b49e39d7816606f9ad117"
      }
     },
     "metadata": {},
     "output_type": "display_data"
    },
    {
     "name": "stdout",
     "output_type": "stream",
     "text": [
      "Done!\n",
      "Making predictions...\n",
      "Prediction rate: 1545.1 pred/s\n",
      "Obtained 243 predictions from:  SIPFENN_Krajewski2022_NN30\n",
      "Prediction rate: 1660.2 pred/s\n",
      "Obtained 243 predictions from:  SIPFENN_MyFunNet2023_NiSup\n",
      "[{'SIPFENN_Krajewski2022_NN30': 0.17875529825687408,\n",
      "  'SIPFENN_MyFunNet2023_NiSup': 0.17875529825687408},\n",
      " {'SIPFENN_Krajewski2022_NN30': 0.16407020390033722,\n",
      "  'SIPFENN_MyFunNet2023_NiSup': 0.16407020390033722}]\n"
     ]
    }
   ],
   "source": [
    "predictions3 = c.runModels(structList=structList, descriptor='KS2022', mode='parallel', max_workers=6)\n",
    "results3 = c.get_resultDicts()\n",
    "pprint(results3[:2])"
   ]
  },
  {
   "cell_type": "markdown",
   "metadata": {},
   "source": [
    "Lastly, append our new results to the previous ones!"
   ]
  },
  {
   "cell_type": "code",
   "execution_count": 30,
   "metadata": {},
   "outputs": [
    {
     "name": "stdout",
     "output_type": "stream",
     "text": [
      "[{'SIPFENN_Krajewski2020_NN20': 0.07977379858493805,\n",
      "  'SIPFENN_Krajewski2020_NN24': 0.03619053587317467,\n",
      "  'SIPFENN_Krajewski2020_NN9': 0.07845475524663925,\n",
      "  'SIPFENN_Krajewski2022_NN30': 0.17875529825687408,\n",
      "  'SIPFENN_MyFunNet2023_NiSup': 0.17875529825687408,\n",
      "  'configuration': 'Fe-Fe-Fe-Fe-Fe'},\n",
      " {'SIPFENN_Krajewski2020_NN20': -0.011681255884468555,\n",
      "  'SIPFENN_Krajewski2020_NN24': 0.05775585398077965,\n",
      "  'SIPFENN_Krajewski2020_NN9': 0.06124945729970932,\n",
      "  'SIPFENN_Krajewski2022_NN30': 0.16407020390033722,\n",
      "  'SIPFENN_MyFunNet2023_NiSup': 0.16407020390033722,\n",
      "  'configuration': 'Fe-Fe-Fe-Fe-Cr'}]\n"
     ]
    }
   ],
   "source": [
    "resultsFull = [res12 | res3 for res12, res3 in zip(resultsCombinedLabeled, results3)]\n",
    "pprint(resultsFull[:2])"
   ]
  },
  {
   "cell_type": "markdown",
   "metadata": {},
   "source": [
    "##### Great job! You have successfully completed the workshop!\n",
    "Thank you for your attention! If you are following it in synchronous fashion, we will now head to Q&A session. If you are viewing it in your own time and have some questions, please feel free to reach out to [Adam M. Krajewski (ak@psu.edu)](ak@psu.edu) or [Zi-Kui Liu (zxl15@psu.edu)](zxl15@psu.edu)!"
   ]
  },
  {
   "cell_type": "markdown",
   "metadata": {},
   "source": []
  }
 ],
 "metadata": {
  "kernelspec": {
   "display_name": "Python 3 (ipykernel)",
   "language": "python",
   "name": "python3"
  },
  "language_info": {
   "codemirror_mode": {
    "name": "ipython",
    "version": 3
   },
   "file_extension": ".py",
   "mimetype": "text/x-python",
   "name": "python",
   "nbconvert_exporter": "python",
   "pygments_lexer": "ipython3",
   "version": "3.9.15"
  }
 },
 "nbformat": 4,
 "nbformat_minor": 1
}
