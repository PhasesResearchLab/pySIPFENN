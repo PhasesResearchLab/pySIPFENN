{
 "cells": [
  {
   "cell_type": "markdown",
   "metadata": {},
   "source": [
    "# pySIPFENN MGF-PSU Workshop (Feb 2023)\n",
    "\n",
    "This Jupyter notebook is a brief walkthrough covering core functionalities of the **pySIPFENN** or **py**(**S**tructure-**I**nformed **P**rediction of **F**ormation **E**nergy using **N**eural **N**etworks) package; available through the PyPI repository. A fuller description of capabilities is given at PSU Phases Research Lab webpage under _phaseslab.com/sipfenn_.\n",
    "![img](assets/neuralnetcolorized.png)"
   ]
  },
  {
   "cell_type": "markdown",
   "metadata": {},
   "source": [
    "## Install pySIPFENN\n",
    "\n",
    "Installing pySIPFENN is simple and easy utilizing either **PyPI** package repository or cloning from **GitHub**. While not required, it is recommended to first set up a virtual environment using venv or Conda. This ensures that one of the required versions of Python (3.9+) is used and there are no dependency conflicts. To create one\n",
    "\n",
    "    conda create -n pysipfenn-workshop python=3.9 jupyter\n",
    "    conda activate pysipfenn-workshop\n",
    "\n",
    "And then install pySIPFENN from PyPI with\n",
    "\n",
    "    pip install pysipfenn\n",
    "\n",
    "Alternatively, you can also install pySIPFENN in editable mode if you cloned it from GitHub like\n",
    "\n",
    "    git clone https://github.com/PhasesResearchLab/pySIPFENN.git\n",
    "\n",
    "Or by downloading a ZIP file. Then, move to the pySIPFENN folder and install in editable (-e) mode\n",
    "\n",
    "    cd pySIPFENN\n",
    "    pip install -e .\n"
   ]
  },
  {
   "cell_type": "markdown",
   "metadata": {},
   "source": [
    "## Starting pySIPFENN\n",
    "\n",
    "To utilize pySIPFENN for straightforward calculations, only the Calculator class is needed. It allows for both fetching and identification of NN models and later running of them. For pretty printing we also import pretty print Python built-in library."
   ]
  },
  {
   "cell_type": "code",
   "execution_count": 24,
   "metadata": {
    "collapsed": true
   },
   "outputs": [],
   "source": [
    "from pysipfenn import Calculator\n",
    "from pprint import pprint # Just for pretty printing"
   ]
  },
  {
   "cell_type": "markdown",
   "metadata": {},
   "source": [
    "Now initialize the Calculator. When run, this should display all models detected\n",
    "(e.g. ✔ SIPFENN_Krajewski2020 Standard Materials Model)\n",
    "and those not detected, but declared in the _modelsSIPFENN/models.json_ file."
   ]
  },
  {
   "cell_type": "code",
   "execution_count": 25,
   "metadata": {},
   "outputs": [
    {
     "name": "stdout",
     "output_type": "stream",
     "text": [
      "✔ SIPFENN_Krajewski2020 Standard Materials Model\n",
      "✔ SIPFENN_Krajewski2020 Novel Materials Model\n",
      "✔ SIPFENN_Krajewski2020 Light Model\n",
      "✔ SIPFENN_Krajewski2022 KS2022 Novel Materials Model\n",
      "Loading models:\n"
     ]
    },
    {
     "name": "stderr",
     "output_type": "stream",
     "text": [
      "100%|██████████| 4/4 [00:17<00:00,  4.30s/it]"
     ]
    },
    {
     "name": "stdout",
     "output_type": "stream",
     "text": [
      "*********  PySIPFENN Successfully Initialized  **********\n"
     ]
    },
    {
     "name": "stderr",
     "output_type": "stream",
     "text": [
      "\n"
     ]
    }
   ],
   "source": [
    "c = Calculator()"
   ]
  },
  {
   "cell_type": "markdown",
   "metadata": {},
   "source": [
    "If this is the first run of pySIPFENN and no models are available, one can fetch four default (as of Feb 2023) models from Zenodo with a simple:"
   ]
  },
  {
   "cell_type": "code",
   "execution_count": 26,
   "metadata": {},
   "outputs": [],
   "source": [
    "#c.downloadModels()\n",
    "#c.loadModels()"
   ]
  },
  {
   "cell_type": "markdown",
   "metadata": {},
   "source": [
    "For the purpose of testing, a single model is sufficient and will be fetched faster. E.g. the lightweight model ('SIPFENN_Krajewski2020_NN24') can be acquired in about 1/30 of the time required to download all four."
   ]
  },
  {
   "cell_type": "code",
   "execution_count": 27,
   "metadata": {},
   "outputs": [],
   "source": [
    "#c.downloadModels(network='SIPFENN_Krajewski2020_NN24')\n",
    "#c.loadModels()"
   ]
  },
  {
   "cell_type": "markdown",
   "metadata": {},
   "source": [
    "## Simple run from directory"
   ]
  },
  {
   "cell_type": "markdown",
   "metadata": {},
   "source": [
    "The simplest and most common usage of pySIPFENN is to deploy it on a directory/folder containing atomic structure files such as POSCAR or CIF. To of so, one simply specifies its location and which descriptor / feature vector should be used. The latter determines which ML models will be run, as they require a list of specific and ordered features as input. Furthermore, while the exact model can be specified by the user, by default all applicable models are run, as the run itself is 1-3 orders of magnitude faster than descriptor calculation.\n",
    "\n",
    "    c.runFromDirectory(directory='myInputFiles', descriptor='KS2022')"
   ]
  },
  {
   "cell_type": "markdown",
   "metadata": {},
   "source": [
    "In this demonstration, a set of test files shipped with pySIPFENN under **directory**\n",
    "\n",
    "    pysipfenn/tests/testCaseFiles/exampleInputFiles/\n",
    "\n",
    "is used. However, feel free to change the directory to something with your structure files. Please note that the file extension (e.g. _.POSCAR_) is required for correct input."
   ]
  },
  {
   "cell_type": "markdown",
   "metadata": {},
   "source": [
    "Furthermore, you can specify whether pySIPFENN should run in series or parallel **calculation mode**. The parallel mode is generally faster, but uses more system resources and may be slower on low-power machines with not enough CPU cores. Serial mode is also preferred if there are less than 5 calculations/worker due to multiprocessing overheads."
   ]
  },
  {
   "cell_type": "code",
   "execution_count": 28,
   "metadata": {},
   "outputs": [
    {
     "name": "stdout",
     "output_type": "stream",
     "text": [
      "Importing structures...\n"
     ]
    },
    {
     "name": "stderr",
     "output_type": "stream",
     "text": [
      "100%|██████████| 32/32 [00:00<00:00, 571.42it/s]\n"
     ]
    },
    {
     "name": "stdout",
     "output_type": "stream",
     "text": [
      "\n",
      "Models that will be run: ['SIPFENN_Krajewski2022_NN30']\n",
      "Calculating descriptors...\n"
     ]
    },
    {
     "name": "stderr",
     "output_type": "stream",
     "text": [
      "100%|██████████| 32/32 [00:10<00:00,  3.07it/s]"
     ]
    },
    {
     "name": "stdout",
     "output_type": "stream",
     "text": [
      "Done!\n",
      "Making predictions...\n",
      "Prediction rate: 183.2 pred/s\n",
      "Obtained 32 predictions from:  SIPFENN_Krajewski2022_NN30\n",
      "Done!\n"
     ]
    },
    {
     "name": "stderr",
     "output_type": "stream",
     "text": [
      "\n"
     ]
    }
   ],
   "source": [
    "c.runFromDirectory(directory='../pysipfenn/tests/testCaseFiles/exampleInputFiles/',\n",
    "                   descriptor='KS2022',\n",
    "                   mode='serial')"
   ]
  },
  {
   "cell_type": "markdown",
   "metadata": {},
   "source": [
    "Now, all results are obtained and stored within the **c** Calculator object inside a few exposed conveniently named variables\n",
    "_predictions_ and _inputFiles_. Also, the descriptor data is retained in _descriptorData_ if needed. Let's look up the first 3 entries."
   ]
  },
  {
   "cell_type": "code",
   "execution_count": 29,
   "metadata": {},
   "outputs": [
    {
     "name": "stdout",
     "output_type": "stream",
     "text": [
      "['0-Cr8Fe18Ni4.POSCAR', '1-Cr16Fe8Ni6.POSCAR', '2-Fe8Ni22.POSCAR']\n",
      "[[0.17857088148593903], [0.22403044998645782], [0.07981749624013901]]\n"
     ]
    }
   ],
   "source": [
    "pprint(c.inputFiles[:3])\n",
    "pprint(c.predictions[:3])"
   ]
  },
  {
   "cell_type": "markdown",
   "metadata": {},
   "source": [
    "For user convenience, a few methods are provided for extracting the results. E.g., if pySIPFENN has been run from structure files, the _get_resultDictsWithNames()_ method is available to conveniently pass results forward in the code."
   ]
  },
  {
   "cell_type": "code",
   "execution_count": 30,
   "metadata": {},
   "outputs": [
    {
     "data": {
      "text/plain": [
       "[{'name': '0-Cr8Fe18Ni4.POSCAR',\n",
       "  'SIPFENN_Krajewski2022_NN30': 0.17857088148593903},\n",
       " {'name': '1-Cr16Fe8Ni6.POSCAR',\n",
       "  'SIPFENN_Krajewski2022_NN30': 0.22403044998645782},\n",
       " {'name': '2-Fe8Ni22.POSCAR',\n",
       "  'SIPFENN_Krajewski2022_NN30': 0.07981749624013901}]"
      ]
     },
     "execution_count": 30,
     "metadata": {},
     "output_type": "execute_result"
    }
   ],
   "source": [
    "c.get_resultDictsWithNames()[:3]"
   ]
  },
  {
   "cell_type": "markdown",
   "metadata": {},
   "source": [
    "Alternatively, if results are to be preserved in a spreadsheet, they can be exported into a CSV."
   ]
  },
  {
   "cell_type": "code",
   "execution_count": 31,
   "metadata": {},
   "outputs": [],
   "source": [
    "c.writeResultsToCSV('myFirstResults_pySIPFENN.csv')"
   ]
  },
  {
   "cell_type": "markdown",
   "metadata": {},
   "source": [
    "## Sigma-Phase 5-sublattice model\n",
    "\n",
    "In the previous example we went over a set of POSCAR files in a directory without performing any non-automated manipulation. This is what authors expect will be the most common use pattern. However, pySIPFENN can be effortlessly combined with other structure analysis and manipulation software to fulfill more advanced needs. Here, as an example, we will play with a fairly complex **topologically close packed (TCP) phase called Sigma** possesing 5 chemically unique sites, which will be automatically identified from one configuration, like the one in figure below. Then we will look at energetics of all possible occupancies by 3 elements.\n",
    "\n",
    "![img](assets/112-Cr12Fe10Ni8.png)\n",
    "\n",
    " For structure manipulation we will utilize pymatgen Structure. The [Spglib library](http://spglib.github.io/spglib/), accessed through pymatgen, will perform the symmetry analysis. We begin with import of appropriate modules."
   ]
  },
  {
   "cell_type": "code",
   "execution_count": 32,
   "metadata": {},
   "outputs": [],
   "source": [
    "from pymatgen.core import Structure\n",
    "from pymatgen.analysis.structure_analyzer import SpacegroupAnalyzer"
   ]
  },
  {
   "cell_type": "markdown",
   "metadata": {},
   "source": [
    "Next, we take any end-member of the atomic structure in question. Conveniently, one of them is already in the test case files. Then we replace all species in it with dummy ones."
   ]
  },
  {
   "cell_type": "code",
   "execution_count": 33,
   "metadata": {},
   "outputs": [
    {
     "name": "stdout",
     "output_type": "stream",
     "text": [
      "Full Formula (Dummy30)\n",
      "Reduced Formula: Dummy\n",
      "abc   :   8.547048   8.547048   4.477714\n",
      "angles:  90.000000  90.000000  90.000000\n",
      "pbc   :       True       True       True\n",
      "Sites (30)\n",
      "  #  SP              a         b         c\n",
      "---  -------  --------  --------  --------\n",
      "  0  Dummy0+  0.737702  0.063709  0\n",
      "  1  Dummy0+  0.262298  0.936291  0\n",
      "  2  Dummy0+  0.436291  0.237702  0.5\n",
      "  3  Dummy0+  0.762298  0.563709  0.5\n",
      "  4  Dummy0+  0.563709  0.762298  0.5\n",
      "  5  Dummy0+  0.237702  0.436291  0.5\n",
      "  6  Dummy0+  0.063709  0.737702  0\n",
      "  7  Dummy0+  0.936291  0.262298  0\n",
      "  8  Dummy0+  0         0         0\n",
      "  9  Dummy0+  0.5       0.5       0.5\n",
      " 10  Dummy0+  0.463029  0.129472  0\n",
      " 11  Dummy0+  0.536971  0.870528  0\n",
      " 12  Dummy0+  0.370528  0.963029  0.5\n",
      " 13  Dummy0+  0.036971  0.629472  0.5\n",
      " 14  Dummy0+  0.629472  0.036971  0.5\n",
      " 15  Dummy0+  0.963029  0.370528  0.5\n",
      " 16  Dummy0+  0.129472  0.463029  0\n",
      " 17  Dummy0+  0.870528  0.536971  0\n",
      " 18  Dummy0+  0.182718  0.182718  0.251726\n",
      " 19  Dummy0+  0.817282  0.817282  0.748274\n",
      " 20  Dummy0+  0.817282  0.817282  0.251726\n",
      " 21  Dummy0+  0.317282  0.682718  0.751726\n",
      " 22  Dummy0+  0.317282  0.682718  0.248274\n",
      " 23  Dummy0+  0.182718  0.182718  0.748274\n",
      " 24  Dummy0+  0.682718  0.317282  0.248274\n",
      " 25  Dummy0+  0.682718  0.317282  0.751726\n",
      " 26  Dummy0+  0.39991   0.39991   0\n",
      " 27  Dummy0+  0.60009   0.60009   0\n",
      " 28  Dummy0+  0.10009   0.89991   0.5\n",
      " 29  Dummy0+  0.89991   0.10009   0.5\n"
     ]
    }
   ],
   "source": [
    "baseStructure = Structure.from_file('../pysipfenn/tests/testCaseFiles/exampleInputFiles/0-Cr8Fe18Ni4.POSCAR')\n",
    "for el in set(baseStructure.species):\n",
    "    baseStructure.replace_species({el: 'dummy'})\n",
    "print(baseStructure)"
   ]
  },
  {
   "cell_type": "markdown",
   "metadata": {},
   "source": [
    "Then we use Spglib to find and group unique chemical sites in the structure and lists of their equivalents. In the case of Sigma-phase, there are 5 such sites, also called **sublattices**."
   ]
  },
  {
   "cell_type": "code",
   "execution_count": 34,
   "metadata": {},
   "outputs": [],
   "source": [
    "spgA = SpacegroupAnalyzer(baseStructure)"
   ]
  },
  {
   "cell_type": "code",
   "execution_count": 35,
   "metadata": {},
   "outputs": [
    {
     "name": "stdout",
     "output_type": "stream",
     "text": [
      "{0: [0, 1, 2, 3, 4, 5, 6, 7],\n",
      " 8: [8, 9],\n",
      " 10: [10, 11, 12, 13, 14, 15, 16, 17],\n",
      " 18: [18, 19, 20, 21, 22, 23, 24, 25],\n",
      " 26: [26, 27, 28, 29]}\n"
     ]
    }
   ],
   "source": [
    "eqAtoms = spgA.get_symmetry_dataset()['equivalent_atoms']\n",
    "uniqueDict = {}\n",
    "for site, unique in enumerate(eqAtoms):\n",
    "    if unique not in uniqueDict:\n",
    "        uniqueDict.update({unique: []})\n",
    "    uniqueDict[unique] += [site]\n",
    "pprint(uniqueDict)"
   ]
  },
  {
   "cell_type": "markdown",
   "metadata": {},
   "source": [
    "Now, with unique sites identified, we need to find all possible occupancies in the chemical system in question. Here we look at the Cr-Fe-Ni ternary. We expect 3^5=243 possible permutations with repetition."
   ]
  },
  {
   "cell_type": "code",
   "execution_count": 36,
   "metadata": {},
   "outputs": [
    {
     "name": "stdout",
     "output_type": "stream",
     "text": [
      "Obtained 243 permutations of the sublattice occupancy\n",
      "E.g.:  ('Fe', 'Cr', 'Fe', 'Cr', 'Ni')\n"
     ]
    }
   ],
   "source": [
    "from itertools import product\n",
    "allPermutations = list(product(['Fe', 'Cr', 'Ni'], repeat=5))\n",
    "print(f'Obtained {len(allPermutations)} permutations of the sublattice occupancy\\nE.g.:  {allPermutations[32]}')"
   ]
  },
  {
   "cell_type": "code",
   "execution_count": 37,
   "metadata": {},
   "outputs": [
    {
     "name": "stdout",
     "output_type": "stream",
     "text": [
      "Full Formula (Cr10 Fe16 Ni4)\n",
      "Reduced Formula: Cr5(Fe4Ni)2\n",
      "abc   :   8.547048   8.547048   4.477714\n",
      "angles:  90.000000  90.000000  90.000000\n",
      "pbc   :       True       True       True\n",
      "Sites (30)\n",
      "  #  SP           a         b         c\n",
      "---  ----  --------  --------  --------\n",
      "  0  Fe    0.737702  0.063709  0\n",
      "  1  Fe    0.262298  0.936291  0\n",
      "  2  Fe    0.436291  0.237702  0.5\n",
      "  3  Fe    0.762298  0.563709  0.5\n",
      "  4  Fe    0.563709  0.762298  0.5\n",
      "  5  Fe    0.237702  0.436291  0.5\n",
      "  6  Fe    0.063709  0.737702  0\n",
      "  7  Fe    0.936291  0.262298  0\n",
      "  8  Cr    0         0         0\n",
      "  9  Cr    0.5       0.5       0.5\n",
      " 10  Fe    0.463029  0.129472  0\n",
      " 11  Fe    0.536971  0.870528  0\n",
      " 12  Fe    0.370528  0.963029  0.5\n",
      " 13  Fe    0.036971  0.629472  0.5\n",
      " 14  Fe    0.629472  0.036971  0.5\n",
      " 15  Fe    0.963029  0.370528  0.5\n",
      " 16  Fe    0.129472  0.463029  0\n",
      " 17  Fe    0.870528  0.536971  0\n",
      " 18  Cr    0.182718  0.182718  0.251726\n",
      " 19  Cr    0.817282  0.817282  0.748274\n",
      " 20  Cr    0.817282  0.817282  0.251726\n",
      " 21  Cr    0.317282  0.682718  0.751726\n",
      " 22  Cr    0.317282  0.682718  0.248274\n",
      " 23  Cr    0.182718  0.182718  0.748274\n",
      " 24  Cr    0.682718  0.317282  0.248274\n",
      " 25  Cr    0.682718  0.317282  0.751726\n",
      " 26  Ni    0.39991   0.39991   0\n",
      " 27  Ni    0.60009   0.60009   0\n",
      " 28  Ni    0.10009   0.89991   0.5\n",
      " 29  Ni    0.89991   0.10009   0.5\n"
     ]
    }
   ],
   "source": [
    "structList = []\n",
    "for permutation in allPermutations:\n",
    "    tempStructure = baseStructure.copy()\n",
    "    for unique, el in zip(uniqueDict, permutation):\n",
    "        for site in uniqueDict[unique]:\n",
    "            tempStructure.replace(site, el)\n",
    "    structList.append(tempStructure)\n",
    "print(structList[32])"
   ]
  },
  {
   "cell_type": "code",
   "execution_count": 38,
   "metadata": {},
   "outputs": [
    {
     "name": "stdout",
     "output_type": "stream",
     "text": [
      "✔ SIPFENN_Krajewski2020 Standard Materials Model\n",
      "✔ SIPFENN_Krajewski2020 Novel Materials Model\n",
      "✔ SIPFENN_Krajewski2020 Light Model\n",
      "✔ SIPFENN_Krajewski2022 KS2022 Novel Materials Model\n",
      "Loading models:\n"
     ]
    },
    {
     "name": "stderr",
     "output_type": "stream",
     "text": [
      "100%|██████████| 4/4 [00:14<00:00,  3.50s/it]"
     ]
    },
    {
     "name": "stdout",
     "output_type": "stream",
     "text": [
      "*********  PySIPFENN Successfully Initialized  **********\n"
     ]
    },
    {
     "name": "stderr",
     "output_type": "stream",
     "text": [
      "\n"
     ]
    }
   ],
   "source": [
    "c = Calculator()"
   ]
  },
  {
   "cell_type": "code",
   "execution_count": 39,
   "metadata": {},
   "outputs": [
    {
     "name": "stdout",
     "output_type": "stream",
     "text": [
      "\n",
      "Models that will be run: ['SIPFENN_Krajewski2022_NN30']\n",
      "Calculating descriptors...\n"
     ]
    },
    {
     "data": {
      "application/vnd.jupyter.widget-view+json": {
       "model_id": "16067693c7d746f5b95af578f0217029",
       "version_major": 2,
       "version_minor": 0
      },
      "text/plain": [
       "  0%|          | 0/243 [00:00<?, ?it/s]"
      ]
     },
     "metadata": {},
     "output_type": "display_data"
    },
    {
     "name": "stdout",
     "output_type": "stream",
     "text": [
      "Done!\n",
      "Making predictions...\n",
      "Prediction rate: 210.3 pred/s\n",
      "Obtained 243 predictions from:  SIPFENN_Krajewski2022_NN30\n",
      "[[0.17875494062900543], [0.164070263504982], [0.20459170639514923]]\n"
     ]
    }
   ],
   "source": [
    "predictions1 = c.runModels(structList=structList, descriptor='KS2022', mode='parallel', max_workers=6)\n",
    "pprint(predictions1[:3])"
   ]
  },
  {
   "cell_type": "code",
   "execution_count": 40,
   "metadata": {},
   "outputs": [
    {
     "name": "stdout",
     "output_type": "stream",
     "text": [
      "[{'SIPFENN_Krajewski2022_NN30': 0.17875494062900543},\n",
      " {'SIPFENN_Krajewski2022_NN30': 0.164070263504982},\n",
      " {'SIPFENN_Krajewski2022_NN30': 0.20459170639514923}]\n"
     ]
    }
   ],
   "source": [
    "results1 = c.get_resultDicts()\n",
    "pprint(results1[:3])"
   ]
  },
  {
   "cell_type": "markdown",
   "metadata": {},
   "source": [
    "## Run models utilizing different descriptor / feature vector\n",
    "\n",
    "As alluded to before, pySIPFENN is built to enable rapid deployment of models based around single feature vector (or a subset of it) as descriptor calculation is by far the most costly component of structure-informed ML. However, the same feature vector cannot always be used and sometimes another one is needed. In this part of the tutorial, we combine previous predictions with a models based on a different descriptor (KS2017) used in the original SIPFENN paper."
   ]
  },
  {
   "cell_type": "code",
   "execution_count": 41,
   "metadata": {},
   "outputs": [
    {
     "name": "stdout",
     "output_type": "stream",
     "text": [
      "\n",
      "Models that will be run: ['SIPFENN_Krajewski2020_NN9', 'SIPFENN_Krajewski2020_NN20', 'SIPFENN_Krajewski2020_NN24']\n",
      "Calculating descriptors...\n"
     ]
    },
    {
     "data": {
      "application/vnd.jupyter.widget-view+json": {
       "model_id": "10e85a1d7d7f42d68774f707dbdd0d19",
       "version_major": 2,
       "version_minor": 0
      },
      "text/plain": [
       "  0%|          | 0/243 [00:00<?, ?it/s]"
      ]
     },
     "metadata": {},
     "output_type": "display_data"
    },
    {
     "name": "stdout",
     "output_type": "stream",
     "text": [
      "Done!\n",
      "Making predictions...\n",
      "Prediction rate: 223.7 pred/s\n",
      "Obtained 243 predictions from:  SIPFENN_Krajewski2020_NN9\n",
      "Prediction rate: 244.4 pred/s\n",
      "Obtained 243 predictions from:  SIPFENN_Krajewski2020_NN20\n",
      "Prediction rate: 1663.4 pred/s\n",
      "Obtained 243 predictions from:  SIPFENN_Krajewski2020_NN24\n",
      "[[0.07845493406057358, 0.07977385818958282, 0.036190714687108994],\n",
      " [0.0612497553229332, -0.011681136675179005, 0.057756152004003525],\n",
      " [0.05984886735677719, 0.06342127919197083, 0.07474079728126526]]\n"
     ]
    }
   ],
   "source": [
    "predictions2 = c.runModels(structList=structList, descriptor='Ward2017', mode='parallel', max_workers=6)\n",
    "pprint(predictions2[:3])"
   ]
  },
  {
   "cell_type": "code",
   "execution_count": 42,
   "metadata": {},
   "outputs": [
    {
     "name": "stdout",
     "output_type": "stream",
     "text": [
      "[{'SIPFENN_Krajewski2020_NN20': 0.07977385818958282,\n",
      "  'SIPFENN_Krajewski2020_NN24': 0.036190714687108994,\n",
      "  'SIPFENN_Krajewski2020_NN9': 0.07845493406057358},\n",
      " {'SIPFENN_Krajewski2020_NN20': -0.011681136675179005,\n",
      "  'SIPFENN_Krajewski2020_NN24': 0.057756152004003525,\n",
      "  'SIPFENN_Krajewski2020_NN9': 0.0612497553229332}]\n"
     ]
    }
   ],
   "source": [
    "results2 = c.get_resultDicts()\n",
    "pprint(results2[:2])"
   ]
  },
  {
   "cell_type": "markdown",
   "metadata": {},
   "source": [
    "And finally combine two list of result dictionaries together."
   ]
  },
  {
   "cell_type": "code",
   "execution_count": 43,
   "metadata": {},
   "outputs": [
    {
     "name": "stdout",
     "output_type": "stream",
     "text": [
      "[{'SIPFENN_Krajewski2020_NN20': 0.07977385818958282,\n",
      "  'SIPFENN_Krajewski2020_NN24': 0.036190714687108994,\n",
      "  'SIPFENN_Krajewski2020_NN9': 0.07845493406057358,\n",
      "  'SIPFENN_Krajewski2022_NN30': 0.17875494062900543},\n",
      " {'SIPFENN_Krajewski2020_NN20': -0.011681136675179005,\n",
      "  'SIPFENN_Krajewski2020_NN24': 0.057756152004003525,\n",
      "  'SIPFENN_Krajewski2020_NN9': 0.0612497553229332,\n",
      "  'SIPFENN_Krajewski2022_NN30': 0.164070263504982}]\n"
     ]
    }
   ],
   "source": [
    "resultsCombined = [res1 | res2 for res1, res2 in zip(results1, results2)]\n",
    "pprint(resultsCombined[:2])"
   ]
  },
  {
   "cell_type": "code",
   "execution_count": 44,
   "metadata": {},
   "outputs": [
    {
     "name": "stdout",
     "output_type": "stream",
     "text": [
      "[{'SIPFENN_Krajewski2020_NN20': 0.10104335844516754,\n",
      "  'SIPFENN_Krajewski2020_NN24': 0.1215638816356659,\n",
      "  'SIPFENN_Krajewski2020_NN9': 0.10402818769216537,\n",
      "  'SIPFENN_Krajewski2022_NN30': 0.24544550478458405,\n",
      "  'configuration': 'Fe-Cr-Fe-Cr-Cr'},\n",
      " {'SIPFENN_Krajewski2020_NN20': 0.0738341212272644,\n",
      "  'SIPFENN_Krajewski2020_NN24': 0.05895533785223961,\n",
      "  'SIPFENN_Krajewski2020_NN9': 0.06879021972417831,\n",
      "  'SIPFENN_Krajewski2022_NN30': 0.19040240347385406,\n",
      "  'configuration': 'Fe-Cr-Fe-Cr-Ni'}]\n"
     ]
    }
   ],
   "source": [
    "resultsCombinedLabeled = [{'configuration': '-'.join(permutation)} | result for\n",
    "                          result, permutation in zip(resultsCombined, allPermutations)]\n",
    "pprint(resultsCombinedLabeled[31:33])"
   ]
  },
  {
   "cell_type": "markdown",
   "metadata": {},
   "source": [
    "## Add a new model!"
   ]
  },
  {
   "cell_type": "markdown",
   "metadata": {},
   "source": [
    "Adding a new model that accepts one of the descriptors / feature vectors implemented in pySIPFENN is very easy! No matter if it is a re-trained model to fit a specific set of species, or entirely new architecture. It doesn't even need to be created in PyTorch, as pySIPFENN imports ONNX format which can be the export target of almost all ML frameworks.\n",
    "To add your model, you just need to put it in the **modelsSIPFENN directory** in the pySIPFENN location and add a brief definition to the **models.json file**, with field name matching model file name, descriptive name, and specify which descriptor has been used. E.g.,:\n",
    "\n",
    "      \"SIPFENN_myNewModel\": {\n",
    "        \"name\": \"SIPFENN_Krajewski2022 KS2022 Novel Materials Model - Retrained for Personal Needs\",\n",
    "        \"descriptor\": \"KS2022\"\n",
    "      }\n",
    "\n",
    "Then just re-initialize the Calculator and everything should be loaded automatically!"
   ]
  },
  {
   "cell_type": "code",
   "execution_count": 45,
   "metadata": {},
   "outputs": [
    {
     "name": "stdout",
     "output_type": "stream",
     "text": [
      "✔ SIPFENN_Krajewski2020 Standard Materials Model\n",
      "✔ SIPFENN_Krajewski2020 Novel Materials Model\n",
      "✔ SIPFENN_Krajewski2020 Light Model\n",
      "✔ SIPFENN_Krajewski2022 KS2022 Novel Materials Model\n",
      "✔ SIPFENN_Krajewski2022 KS2022 Novel Materials Model - Retrained for Personal Needs\n",
      "Loading models:\n"
     ]
    },
    {
     "name": "stderr",
     "output_type": "stream",
     "text": [
      "100%|██████████| 5/5 [00:16<00:00,  3.20s/it]"
     ]
    },
    {
     "name": "stdout",
     "output_type": "stream",
     "text": [
      "*********  PySIPFENN Successfully Initialized  **********\n"
     ]
    },
    {
     "name": "stderr",
     "output_type": "stream",
     "text": [
      "\n"
     ]
    }
   ],
   "source": [
    "c = Calculator()"
   ]
  },
  {
   "cell_type": "code",
   "execution_count": 46,
   "metadata": {},
   "outputs": [
    {
     "name": "stdout",
     "output_type": "stream",
     "text": [
      "\n",
      "Models that will be run: ['SIPFENN_Krajewski2022_NN30', 'SIPFENN_myNewModel']\n",
      "Calculating descriptors...\n"
     ]
    },
    {
     "data": {
      "application/vnd.jupyter.widget-view+json": {
       "model_id": "4517d3fa6b394f52bd60b29319c2af23",
       "version_major": 2,
       "version_minor": 0
      },
      "text/plain": [
       "  0%|          | 0/243 [00:00<?, ?it/s]"
      ]
     },
     "metadata": {},
     "output_type": "display_data"
    },
    {
     "name": "stdout",
     "output_type": "stream",
     "text": [
      "Done!\n",
      "Making predictions...\n",
      "Prediction rate: 243.5 pred/s\n",
      "Obtained 243 predictions from:  SIPFENN_Krajewski2022_NN30\n",
      "Prediction rate: 254.5 pred/s\n",
      "Obtained 243 predictions from:  SIPFENN_myNewModel\n",
      "[{'SIPFENN_Krajewski2022_NN30': 0.17875494062900543,\n",
      "  'SIPFENN_myNewModel': 0.17875494062900543},\n",
      " {'SIPFENN_Krajewski2022_NN30': 0.164070263504982,\n",
      "  'SIPFENN_myNewModel': 0.164070263504982}]\n"
     ]
    }
   ],
   "source": [
    "predictions3 = c.runModels(structList=structList, descriptor='KS2022', mode='parallel', max_workers=6)\n",
    "results3 = c.get_resultDicts()\n",
    "pprint(results3[:2])"
   ]
  },
  {
   "cell_type": "markdown",
   "metadata": {},
   "source": [
    "And append our new results to the previous ones!"
   ]
  },
  {
   "cell_type": "code",
   "execution_count": 47,
   "metadata": {},
   "outputs": [
    {
     "name": "stdout",
     "output_type": "stream",
     "text": [
      "[{'SIPFENN_Krajewski2020_NN20': 0.07977385818958282,\n",
      "  'SIPFENN_Krajewski2020_NN24': 0.036190714687108994,\n",
      "  'SIPFENN_Krajewski2020_NN9': 0.07845493406057358,\n",
      "  'SIPFENN_Krajewski2022_NN30': 0.17875494062900543,\n",
      "  'SIPFENN_myNewModel': 0.17875494062900543,\n",
      "  'configuration': 'Fe-Fe-Fe-Fe-Fe'},\n",
      " {'SIPFENN_Krajewski2020_NN20': -0.011681136675179005,\n",
      "  'SIPFENN_Krajewski2020_NN24': 0.057756152004003525,\n",
      "  'SIPFENN_Krajewski2020_NN9': 0.0612497553229332,\n",
      "  'SIPFENN_Krajewski2022_NN30': 0.164070263504982,\n",
      "  'SIPFENN_myNewModel': 0.164070263504982,\n",
      "  'configuration': 'Fe-Fe-Fe-Fe-Cr'}]\n"
     ]
    }
   ],
   "source": [
    "resultsFull = [res12 | res3 for res12, res3 in zip(resultsCombinedLabeled, results3)]\n",
    "pprint(resultsFull[:2])"
   ]
  },
  {
   "cell_type": "markdown",
   "metadata": {},
   "source": [
    "**Great job! You have successfully completed the workshop!**\n",
    "Thank you for your attention! If you are following it in synchronous fashion, we will now head to Q&A session. If you are viewing it in your own time and have some questions, please feel free to reach out to [Adam M. Krajewski (ak@psu.edu)](mailto:ak@psu.edu) or [Zi-Kui Liu (zxl15@psu.edu)](mailto:zxl15@psu.edu)!"
   ]
  },
  {
   "cell_type": "markdown",
   "metadata": {},
   "source": []
  }
 ],
 "metadata": {
  "kernelspec": {
   "display_name": "Python 3 (ipykernel)",
   "language": "python",
   "name": "python3"
  },
  "language_info": {
   "codemirror_mode": {
    "name": "ipython",
    "version": 3
   },
   "file_extension": ".py",
   "mimetype": "text/x-python",
   "name": "python",
   "nbconvert_exporter": "python",
   "pygments_lexer": "ipython3",
   "version": "3.9.15"
  }
 },
 "nbformat": 4,
 "nbformat_minor": 1
}
